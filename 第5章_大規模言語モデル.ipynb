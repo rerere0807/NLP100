{
  "cells": [
    {
      "cell_type": "markdown",
      "id": "bf8022b0-6a02-44e3-b2da-ef2efca867e7",
      "metadata": {
        "editable": true,
        "id": "bf8022b0-6a02-44e3-b2da-ef2efca867e7",
        "tags": []
      },
      "source": [
        "# 第5章: 大規模言語モデル\n",
        "\n",
        "この章では、大規模言語モデル (LLM; Large Language Model) の利用し、様々なタスクに取り組む。大規模言語モデルをプログラムからAPI経由で呼び出すことを想定しており、そのAPIの利用で費用が発生する可能性があることに留意せよ。"
      ]
    },
    {
      "cell_type": "markdown",
      "id": "1cb183db-021f-41f5-b719-15f34fe14da2",
      "metadata": {
        "id": "1cb183db-021f-41f5-b719-15f34fe14da2"
      },
      "source": [
        "## 40. Zero-Shot推論\n",
        "\n",
        "以下の問題の解答を作成せよ。ただし、解答生成はzero-shot推論とせよ。\n",
        "\n",
        "```\n",
        "9世紀に活躍した人物に関係するできごとについて述べた次のア～ウを年代の古い順に正しく並べよ。\n",
        "\n",
        "ア　藤原時平は，策謀を用いて菅原道真を政界から追放した。\n",
        "イ　嵯峨天皇は，藤原冬嗣らを蔵人頭に任命した。\n",
        "ウ　藤原良房は，承和の変後，藤原氏の中での北家の優位を確立した。\n",
        "```\n",
        "\n",
        "出典: [令和5年度第1回高等学校卒業程度認定試験問題](https://www.mext.go.jp/a_menu/koutou/shiken/kakomon/1411255_00010.htm) [日本史AB 問題](https://www.mext.go.jp/content/20240523-mxt_syogai02-mext_000031286_03nihonshi.pdf) 日本史B 1 問3"
      ]
    },
    {
      "cell_type": "code",
      "execution_count": 11,
      "id": "50b0a4d8",
      "metadata": {},
      "outputs": [
        {
          "name": "stdout",
          "output_type": "stream",
          "text": [
            "Zero-shot推論の結果:\n",
            "正しい並びは **イ→ウ→ア** です。\n",
            "\n",
            "\n",
            "* **イ　嵯峨天皇は，藤原冬嗣らを蔵人頭に任命した。**  嵯峨天皇の治世は809年～823年です。藤原冬嗣は806年に蔵人頭になっています。\n",
            "\n",
            "* **ウ　藤原良房は，承和の変後，藤原氏の中での北家の優位を確立した。** 承和の変は842年。その後の藤原良房の勢力拡大によって北家が優勢になります。\n",
            "\n",
            "* **ア　藤原時平は，策謀を用いて菅原道真を政界から追放した。** これは、延喜の変（894年）のことです。\n",
            "\n",
            "\n",
            "よって、年代順にイ、ウ、アとなります。\n",
            "\n"
          ]
        }
      ],
      "source": [
        "import os\n",
        "from dotenv import load_dotenv\n",
        "import google.generativeai as genai\n",
        "\n",
        "load_dotenv()\n",
        "api_key = os.environ[\"GOOGLE_API_KEY\"]\n",
        "genai.configure(api_key=api_key)\n",
        "\n",
        "model = genai.GenerativeModel(model_name=\"gemini-1.5-flash\")\n",
        "query = \"\"\"9世紀に活躍した人物に関係するできごとについて述べた次のア～ウを年代の古い順に正しく並べよ。\n",
        "\n",
        "        ア　藤原時平は，策謀を用いて菅原道真を政界から追放した。\n",
        "        イ　嵯峨天皇は，藤原冬嗣らを蔵人頭に任命した。\n",
        "        ウ　藤原良房は，承和の変後，藤原氏の中での北家の優位を確立した。\"\"\"\n",
        "\n",
        "zero_shot_prompt = f\"質問: {query}\\n回答: \"\n",
        "zero_shot_response = model.generate_content(zero_shot_prompt)\n",
        "\n",
        "print(\"Zero-shot推論の結果:\")\n",
        "print(zero_shot_response.text)"
      ]
    },
    {
      "cell_type": "markdown",
      "id": "608f75ea-f00f-4365-b642-bf55fe98fa9c",
      "metadata": {
        "id": "608f75ea-f00f-4365-b642-bf55fe98fa9c"
      },
      "source": [
        "## 41. Few-Shot推論\n",
        "\n",
        "以下の問題と解答を与え、問題40で示した質問の解答をfew-shot推論（この場合は4-shot推論）で生成せよ。\n",
        "\n",
        "```\n",
        "日本の近代化に関連するできごとについて述べた次のア～ウを年代の古い順に正しく並べよ。\n",
        "\n",
        "ア　府知事・県令からなる地方官会議が設置された。\n",
        "イ　廃藩置県が実施され，中央から府知事・県令が派遣される体制になった。\n",
        "ウ　すべての藩主が，天皇に領地と領民を返還した。\n",
        "\n",
        "解答: ウ→イ→ア\n",
        "```\n",
        "\n",
        "出典: [令和5年度第1回高等学校卒業程度認定試験問題](https://www.mext.go.jp/a_menu/koutou/shiken/kakomon/1411255_00010.htm) [日本史AB 問題](https://www.mext.go.jp/content/20240523-mxt_syogai02-mext_000031286_03nihonshi.pdf) 日本史A 1 問8\n",
        "\n",
        "\n",
        "```\n",
        "江戸幕府の北方での対外的な緊張について述べた次の文ア～ウを年代の古い順に正しく並べよ。\n",
        "\n",
        "ア　レザノフが長崎に来航したが，幕府が冷淡な対応をしたため，ロシア船が樺太や択捉島を攻撃した。\n",
        "イ　ゴローウニンが国後島に上陸し，幕府の役人に捕らえられ抑留された。\n",
        "ウ　ラクスマンが根室に来航し，漂流民を届けるとともに通商を求めた。\n",
        "\n",
        "解答: ウ→ア→イ\n",
        "```\n",
        "\n",
        "出典: [令和5年度第1回高等学校卒業程度認定試験問題](https://www.mext.go.jp/a_menu/koutou/shiken/kakomon/1411255_00010.htm) [日本史AB 問題](https://www.mext.go.jp/content/20240523-mxt_syogai02-mext_000031286_03nihonshi.pdf) 日本史B 3 問3\n",
        "\n",
        "```\n",
        "中居屋重兵衛の生涯の期間におこったできごとについて述べた次のア～ウを，年代の古い順に正しく並べよ。\n",
        "\n",
        "ア　アヘン戦争がおこり，清がイギリスに敗北した。\n",
        "イ　異国船打払令が出され，外国船を撃退することが命じられた。\n",
        "ウ　桜田門外の変がおこり，大老の井伊直弼が暗殺された。\n",
        "\n",
        "解答: イ→ア→ウ\n",
        "```\n",
        "\n",
        "出典: [令和4年度第1回高等学校卒業程度認定試験問題](https://www.mext.go.jp/a_menu/koutou/shiken/kakomon/1411255_00007.htm) [日本史 問題](https://www.mext.go.jp/content/20240513-mxt_syogai02-mext_00002452_03nihonshi.pdf) 日本史A 1 問1\n",
        "\n",
        "\n",
        "```\n",
        "加藤高明が外務大臣として提言を行ってから、内閣総理大臣となり演説を行うまでの時期のできごとについて述べた次のア～ウを，年代の古い順に正しく並べよ。\n",
        "\n",
        "ア　朝鮮半島において，独立を求める大衆運動である三・一独立運動が展開された。\n",
        "イ　関東大震災後の混乱のなかで，朝鮮人や中国人に対する殺傷事件がおきた。\n",
        "ウ　日本政府が，袁世凱政府に対して二十一カ条の要求を突き付けた。\n",
        "\n",
        "解答: ウ→ア→イ\n",
        "```\n",
        "\n",
        "出典: [令和4年度第1回高等学校卒業程度認定試験問題](https://www.mext.go.jp/a_menu/koutou/shiken/kakomon/1411255_00007.htm) [日本史 問題](https://www.mext.go.jp/content/20240513-mxt_syogai02-mext_00002452_03nihonshi.pdf) 日本史A 2 問4\n"
      ]
    },
    {
      "cell_type": "code",
      "execution_count": 13,
      "id": "f37eb42e",
      "metadata": {},
      "outputs": [
        {
          "name": "stdout",
          "output_type": "stream",
          "text": [
            "4-shot推論の結果:\n",
            "回答: イ→ウ→ア\n",
            "\n",
            "\n",
            "**解説:**\n",
            "\n",
            "これらの出来事は、すべて平安時代初期の出来事です。年代順に整理すると以下のようになります。\n",
            "\n",
            "* **イ　嵯峨天皇は，藤原冬嗣らを蔵人頭に任命した。**  嵯峨天皇の治世は809年から823年。藤原冬嗣は嵯峨天皇の信任が厚く、蔵人頭として活躍しました。\n",
            "\n",
            "* **ウ　藤原良房は，承和の変後，藤原氏の中での北家の優位を確立した。** 承和の変は842年。その後の混乱の中で藤原良房は権力を掌握し、北家の優位を確立しました。\n",
            "\n",
            "* **ア　藤原時平は，策謀を用いて菅原道真を政界から追放した。**  菅原道真の左遷は894年。藤原時平は時の権力者であった藤原氏の一員として、道真を追放しました。\n",
            "\n",
            "\n",
            "従って、イ、ウ、ア の順番が正しい年代順となります。\n",
            "\n"
          ]
        }
      ],
      "source": [
        "import os\n",
        "from dotenv import load_dotenv\n",
        "import google.generativeai as genai\n",
        "\n",
        "load_dotenv()\n",
        "api_key = os.environ[\"GOOGLE_API_KEY\"]\n",
        "genai.configure(api_key=api_key)\n",
        "\n",
        "model = genai.GenerativeModel(model_name=\"gemini-1.5-flash\")\n",
        "query = \"\"\"9世紀に活躍した人物に関係するできごとについて述べた次のア～ウを年代の古い順に正しく並べよ。\n",
        "\n",
        "        ア　藤原時平は，策謀を用いて菅原道真を政界から追放した。\n",
        "        イ　嵯峨天皇は，藤原冬嗣らを蔵人頭に任命した。\n",
        "        ウ　藤原良房は，承和の変後，藤原氏の中での北家の優位を確立した。\"\"\"\n",
        "\n",
        "examples = [\n",
        "\n",
        "    {\n",
        "\n",
        "        \"question\": \"日本の近代化に関連するできごとについて述べた次のア～ウを年代の古い順に正しく並べよ。\\n\\nア　府知事・県令からなる地方官会議が設置された。\\nイ　廃藩置県が実施され，中央から府知事・県令が派遣される体制になった。\\nウ　すべての藩主が，天皇に領地と領民を返還した。\",\n",
        "\n",
        "        \"answer\": \"ウ→イ→ア\",\n",
        "\n",
        "    },\n",
        "\n",
        "    {\n",
        "\n",
        "        \"question\": \"江戸幕府の北方での対外的な緊張について述べた次の文ア～ウを年代の古い順に正しく並べよ。\\n\\nア　レザノフが長崎に来航したが，幕府が冷淡な対応をしたため，ロシア船が樺太や択捉島を攻撃した。\\nイ　ゴローウニンが国後島に上陸し，幕府の役人に捕らえられ抑留された。\\nウ　ラクスマンが根室に来航し，漂流民を届けるとともに通商を求めた。\",\n",
        "\n",
        "        \"answer\": \"ウ→ア→イ\",\n",
        "\n",
        "    },\n",
        "\n",
        "    {\n",
        "\n",
        "        \"question\": \"中居屋重兵衛の生涯の期間におこったできごとについて述べた次のア～ウを，年代の古い順に正しく並べよ。\\n\\nア　アヘン戦争がおこり，清がイギリスに敗北した。\\nイ　異国船打払令が出され，外国船を撃退することが命じられた。\\nウ　桜田門外の変がおこり，大老の井伊直弼が暗殺された。\",\n",
        "\n",
        "        \"answer\": \"イ→ア→ウ\",\n",
        "\n",
        "    },\n",
        "\n",
        "    {\n",
        "\n",
        "        \"question\": \"加藤高明が外務大臣として提言を行ってから、内閣総理大臣となり演説を行うまでの時期のできごとについて述べた次のア～ウを，年代の古い順に正しく並べよ。\\n\\nア　朝鮮半島において，独立を求める大衆運動である三・一独立運動が展開された。\\nイ　関東大震災後の混乱のなかで，朝鮮人や中国人に対する殺傷事件がおきた。\\nウ　日本政府が，袁世凱政府に対して二十一カ条の要求を突き付けた。\",\n",
        "\n",
        "        \"answer\": \"ウ→ア→イ\",\n",
        "\n",
        "    },\n",
        "\n",
        "]\n",
        "\n",
        "\n",
        "few_shot_prompt = \"\"\n",
        "\n",
        "for example in examples:\n",
        "\n",
        "    few_shot_prompt += f\"質問: {example['question']}\\n回答: {example['answer']}\\n\\n\"\n",
        "\n",
        "\n",
        "few_shot_prompt += f\"質問: {query}\\n回答: \"\n",
        "\n",
        "\n",
        "few_shot_response = model.generate_content(few_shot_prompt)\n",
        "\n",
        "\n",
        "print(\"4-shot推論の結果:\")\n",
        "\n",
        "print(few_shot_response.text)"
      ]
    },
    {
      "cell_type": "markdown",
      "id": "ba5b3390-fe20-460a-b6ba-fee5d64def0d",
      "metadata": {
        "id": "ba5b3390-fe20-460a-b6ba-fee5d64def0d"
      },
      "source": [
        "## 42. 多肢選択問題の正解率\n",
        "\n",
        "[JMMLU](https://github.com/nlp-waseda/JMMLU) のいずれかの科目を大規模言語モデルに解答させ、その正解率を求めよ。"
      ]
    },
    {
      "cell_type": "code",
      "execution_count": 1,
      "id": "6be26f46",
      "metadata": {},
      "outputs": [
        {
          "name": "stderr",
          "output_type": "stream",
          "text": [
            "解答中: 100%|██████████| 147/147 [10:01<00:00,  4.09s/it]"
          ]
        },
        {
          "name": "stdout",
          "output_type": "stream",
          "text": [
            "\n",
            "moral_disputesサブセットにおける正解率: 65.31%（96/147）\n"
          ]
        },
        {
          "name": "stderr",
          "output_type": "stream",
          "text": [
            "\n"
          ]
        }
      ],
      "source": [
        "import os\n",
        "import time\n",
        "from dotenv import load_dotenv\n",
        "import google.generativeai as genai\n",
        "import requests\n",
        "import csv\n",
        "from io import StringIO\n",
        "from tqdm import tqdm\n",
        "\n",
        "# 環境変数の読み込み\n",
        "load_dotenv()\n",
        "api_key = os.environ[\"GOOGLE_API_KEY\"]\n",
        "genai.configure(api_key=api_key)\n",
        "\n",
        "# モデルの設定\n",
        "model = genai.GenerativeModel(model_name=\"gemini-1.5-flash\")\n",
        "\n",
        "# JMMLUデータセット（moral_disputes）のダウンロード\n",
        "JMMLU_URL = (\n",
        "    \"https://raw.githubusercontent.com/nlp-waseda/JMMLU/main/JMMLU/moral_disputes.csv\"\n",
        ")\n",
        "response = requests.get(JMMLU_URL)\n",
        "response.raise_for_status()  # エラーチェック\n",
        "\n",
        "# CSVファイルをパース\n",
        "csv_data = StringIO(response.text)\n",
        "reader = csv.DictReader(csv_data)\n",
        "data = list(reader)\n",
        "\n",
        "correct = 0\n",
        "total = len(data)\n",
        "request_count = 0  # APIリクエスト回数のカウンター\n",
        "\n",
        "for item in tqdm(data, desc=\"解答中\"):\n",
        "    # 15リクエストごとに1分間休止\n",
        "    if request_count > 0 and request_count % 15 == 0:\n",
        "        time.sleep(60)  # 60秒（1分）休止\n",
        "\n",
        "    # 最初の列が質問、その次の4列が選択肢A-D、最後の列が正解\n",
        "    keys = list(item.keys())\n",
        "    question = item[keys[0]]\n",
        "    choices = [\n",
        "        item[keys[1]],\n",
        "        item[keys[2]],\n",
        "        item[keys[3]],\n",
        "        item[keys[4]],\n",
        "    ]\n",
        "    answer = item[keys[5]]\n",
        "\n",
        "    prompt = f\"\"\"質問: {question}\n",
        "選択肢:\n",
        "A. {choices[0]}\n",
        "B. {choices[1]}\n",
        "C. {choices[2]}\n",
        "D. {choices[3]}\n",
        "正しい選択肢の記号（A〜D）を1つだけ答えてください。\n",
        "回答: \"\"\"\n",
        "\n",
        "    try:\n",
        "        response = model.generate_content(prompt)\n",
        "        request_count += 1\n",
        "\n",
        "        # 回答の最初の文字だけを取得（A, B, C, Dのみ）\n",
        "        model_answer = response.text.strip()[0].upper()\n",
        "\n",
        "        if model_answer == answer:\n",
        "            correct += 1\n",
        "    except Exception as e:\n",
        "        print(f\"エラー: {e}\")\n",
        "        continue\n",
        "\n",
        "accuracy = correct / total\n",
        "print(\n",
        "    f\"\\nmoral_disputesサブセットにおける正解率: {accuracy * 100:.2f}%（{correct}/{total}）\"\n",
        ")"
      ]
    },
    {
      "cell_type": "markdown",
      "id": "e12fc22a-24a5-4bd0-881f-27ea99120cce",
      "metadata": {
        "id": "e12fc22a-24a5-4bd0-881f-27ea99120cce"
      },
      "source": [
        "## 43. 応答のバイアス\n",
        "\n",
        "問題42において、実験設定を変化させると正解率が変化するかどうかを調べよ。実験設定の例としては、大規模言語モデルの温度パラメータ、プロンプト、多肢選択肢の順番、多肢選択肢の記号などが考えられる。"
      ]
    },
    {
      "cell_type": "markdown",
      "id": "rwHMH3_y6vGI",
      "metadata": {
        "id": "rwHMH3_y6vGI"
      },
      "source": [
        "正解の選択肢を全てDに入れ替えて解答させる例。"
      ]
    },
    {
      "cell_type": "code",
      "execution_count": 2,
      "id": "da001e03",
      "metadata": {},
      "outputs": [
        {
          "name": "stdout",
          "output_type": "stream",
          "text": [
            "\n",
            "==== 実験: すべての正解をDに入れ替え ====\n"
          ]
        },
        {
          "name": "stderr",
          "output_type": "stream",
          "text": [
            "解答中（すべての正解をDに入れ替え）: 100%|██████████| 147/147 [10:35<00:00,  4.32s/it]"
          ]
        },
        {
          "name": "stdout",
          "output_type": "stream",
          "text": [
            "\n",
            "すべての正解をDに入れ替えた場合の正解率: 55.78%（82/147）\n"
          ]
        },
        {
          "name": "stderr",
          "output_type": "stream",
          "text": [
            "\n"
          ]
        }
      ],
      "source": [
        "import os\n",
        "import time\n",
        "from dotenv import load_dotenv\n",
        "import google.generativeai as genai\n",
        "import requests\n",
        "import csv\n",
        "from io import StringIO\n",
        "from tqdm import tqdm\n",
        "import pandas as pd\n",
        "import matplotlib.pyplot as plt\n",
        "\n",
        "# 環境変数の読み込み\n",
        "load_dotenv()\n",
        "api_key = os.environ[\"GOOGLE_API_KEY\"]\n",
        "genai.configure(api_key=api_key)\n",
        "\n",
        "# モデルの設定\n",
        "model = genai.GenerativeModel(model_name=\"gemini-1.5-flash\")\n",
        "\n",
        "# JMMLUデータセット（moral_disputes）のダウンロード\n",
        "JMMLU_URL = (\n",
        "    \"https://raw.githubusercontent.com/nlp-waseda/JMMLU/main/JMMLU/moral_disputes.csv\"\n",
        ")\n",
        "response = requests.get(JMMLU_URL)\n",
        "response.raise_for_status()  # エラーチェック\n",
        "\n",
        "# CSVファイルをパース\n",
        "csv_data = StringIO(response.text)\n",
        "reader = csv.DictReader(csv_data)\n",
        "data = list(reader)\n",
        "\n",
        "# 結果保存用の辞書\n",
        "results = {\"実験条件\": [], \"正解率\": [], \"正解数\": [], \"総問題数\": []}\n",
        "\n",
        "# すべての正解をDに入れ替えた実験\n",
        "print(\"\\n==== 実験: すべての正解をDに入れ替え ====\")\n",
        "\n",
        "correct = 0\n",
        "total = len(data)\n",
        "request_count = 0\n",
        "\n",
        "for item in tqdm(data, desc=\"解答中（すべての正解をDに入れ替え）\"):\n",
        "    # 15リクエストごとに1分間休止\n",
        "    if request_count > 0 and request_count % 15 == 0:\n",
        "        time.sleep(60)  # 60秒（1分）休止\n",
        "\n",
        "    # 最初の列が質問、その次の4列が選択肢A-D、最後の列が正解\n",
        "    keys = list(item.keys())\n",
        "    question = item[keys[0]]\n",
        "\n",
        "    # 元の選択肢を取得\n",
        "    original_choices = [\n",
        "        item[keys[1]],\n",
        "        item[keys[2]],\n",
        "        item[keys[3]],\n",
        "        item[keys[4]],\n",
        "    ]\n",
        "\n",
        "    original_answer = item[keys[5]]  # 元の正解（A, B, C, Dのいずれか）\n",
        "\n",
        "    # 元の正解の選択肢を取得（0-3のインデックス）\n",
        "    original_answer_index = ord(original_answer) - ord(\"A\")\n",
        "\n",
        "    # 選択肢を入れ替え、元の正解がDになるように調整\n",
        "    modified_choices = original_choices.copy()\n",
        "    # 元の正解の選択肢とDの選択肢を交換\n",
        "    modified_choices[original_answer_index], modified_choices[3] = (\n",
        "        modified_choices[3],\n",
        "        modified_choices[original_answer_index],\n",
        "    )\n",
        "\n",
        "    # 入れ替え後の正解はD\n",
        "    modified_answer = \"D\"\n",
        "\n",
        "    prompt = f\"\"\"質問: {question}\n",
        "選択肢:\n",
        "A. {modified_choices[0]}\n",
        "B. {modified_choices[1]}\n",
        "C. {modified_choices[2]}\n",
        "D. {modified_choices[3]}\n",
        "正しい選択肢の記号（A〜D）を1つだけ答えてください。\n",
        "回答: \"\"\"\n",
        "\n",
        "    try:\n",
        "        response = model.generate_content(prompt)\n",
        "        request_count += 1\n",
        "\n",
        "        # 回答の最初の文字だけを取得（A, B, C, Dのみ）\n",
        "        model_answer = response.text.strip()[0].upper()\n",
        "\n",
        "        if model_answer == modified_answer:  # Dと比較\n",
        "            correct += 1\n",
        "    except Exception as e:\n",
        "        print(f\"エラー: {e}\")\n",
        "        continue\n",
        "\n",
        "# 正解率の計算と表示\n",
        "accuracy = correct / total * 100\n",
        "print(\n",
        "    f\"\\nすべての正解をDに入れ替えた場合の正解率: {accuracy:.2f}%（{correct}/{total}）\"\n",
        ")\n"
      ]
    },
    {
      "cell_type": "markdown",
      "id": "68b9f58d-d6bf-41cb-9601-1dc50799f21a",
      "metadata": {
        "id": "68b9f58d-d6bf-41cb-9601-1dc50799f21a"
      },
      "source": [
        "## 44. 対話\n",
        "\n",
        "以下の問いかけに対する応答を生成せよ。\n",
        "\n",
        "> つばめちゃんは渋谷駅から東急東横線に乗り、自由が丘駅で乗り換えました。東急大井町線の大井町方面の電車に乗り換えたとき、各駅停車に乗車すべきところ、間違えて急行に乗車してしまったことに気付きました。自由が丘の次の急行停車駅で降車し、反対方向の電車で一駅戻った駅がつばめちゃんの目的地でした。目的地の駅の名前を答えてください。\n",
        "\n",
        "参考: [東急線・みなとみらい線路線案内](https://www.tokyu.co.jp/railway/station/map.html)"
      ]
    },
    {
      "cell_type": "code",
      "execution_count": 12,
      "id": "4202a196",
      "metadata": {},
      "outputs": [
        {
          "name": "stdout",
          "output_type": "stream",
          "text": [
            "推論結果:\n",
            "つばめちゃんは、自由が丘駅の次にある東急大井町線の急行停車駅である大岡山駅で降車しました。\n",
            "\n",
            "そこから自由が丘方面行きの電車に1駅乗って戻ったので、目的地は**緑が丘駅**です。\n"
          ]
        }
      ],
      "source": [
        "import os\n",
        "from dotenv import load_dotenv\n",
        "import google.generativeai as genai\n",
        "\n",
        "# APIキー読み込みとモデル初期化\n",
        "load_dotenv()\n",
        "api_key = os.environ[\"GOOGLE_API_KEY\"]\n",
        "genai.configure(api_key=api_key)\n",
        "model = genai.GenerativeModel(model_name=\"gemini-2.0-flash\")\n",
        "\n",
        "query = \"\"\"\n",
        "つばめちゃんは渋谷駅から東急東横線に乗車しました。\n",
        "自由が丘駅で「東急大井町線 大井町方面行き」に乗り換えました。\n",
        "各駅停車に乗るべきところを、間違えて急行に乗ってしまいました。\n",
        "自由が丘駅の次の「急行停車駅（東急大井町線・大井町方面）」で降車しました。\n",
        "そこから「自由が丘方面行き（大井町線の反対方向）」の電車に乗って1駅戻りました。\n",
        "目的地はその駅でした。\n",
        "\n",
        "東急大井町線の急行停車駅（大井町方面行き）：自由が丘、大岡山、旗の台、大井町\n",
        "\n",
        "目的地の駅名を答えてください。\n",
        "\"\"\"\n",
        "\n",
        "response = model.generate_content(query)\n",
        "\n",
        "print(\"推論結果:\")\n",
        "print(response.text.strip())"
      ]
    },
    {
      "cell_type": "markdown",
      "id": "90e21f41-e016-40f5-94e7-da332111226c",
      "metadata": {
        "id": "90e21f41-e016-40f5-94e7-da332111226c"
      },
      "source": [
        "## 45. マルチターン対話"
      ]
    },
    {
      "cell_type": "markdown",
      "id": "3a9bdee2-8bac-43a9-98a0-e8af0c600c2a",
      "metadata": {
        "id": "3a9bdee2-8bac-43a9-98a0-e8af0c600c2a"
      },
      "source": [
        "先ほどの応答に続けて、以下の追加の問いかけに対する応答を生成せよ。\n",
        "\n",
        "> さらに、つばめちゃんが自由が丘駅で乗り換えたとき、先ほどとは反対方向の急行電車に間違って乗車してしまった場合を考えます。目的地の駅に向かうため、自由が丘の次の急行停車駅で降車した後、反対方向の各駅停車に乗車した場合、何駅先の駅で降りれば良いでしょうか？"
      ]
    },
    {
      "cell_type": "markdown",
      "id": "lJXGYVdnKQOu",
      "metadata": {
        "id": "lJXGYVdnKQOu"
      },
      "source": [
        "## 46. 川柳の生成\n",
        "\n",
        "適当なお題を設定し、川柳の案を10個作成せよ。"
      ]
    },
    {
      "cell_type": "markdown",
      "id": "6a8207e1-4084-47eb-8533-c5371f795b16",
      "metadata": {
        "id": "6a8207e1-4084-47eb-8533-c5371f795b16"
      },
      "source": [
        "## 47. LLMによる評価\n",
        "\n",
        "大規模言語モデルを評価者（ジャッジ）として、問題46の川柳の面白さを10段階で評価せよ。"
      ]
    },
    {
      "cell_type": "markdown",
      "id": "9e33b5a2-d9e0-43c7-9cc6-b8b642458be2",
      "metadata": {
        "id": "9e33b5a2-d9e0-43c7-9cc6-b8b642458be2"
      },
      "source": [
        "## 48. LLMによる評価の頑健性\n",
        "\n",
        "問題47で行ったLLMによるテキストの評価に関して、その頑健さ（脆弱さ）を調査せよ。最も単純な方法は、同じ評価を何回か繰り返した時のスコアの分散を調べることであろう。また、川柳の末尾に特定のメッセージを追加することで、評価スコアを恣意的に操作することも可能であろう。"
      ]
    },
    {
      "cell_type": "markdown",
      "id": "fbb81de5-8434-4738-89d8-a79f46663857",
      "metadata": {
        "id": "fbb81de5-8434-4738-89d8-a79f46663857"
      },
      "source": [
        "## 49. トークン化\n",
        "\n",
        "以下の文章（夏目漱石の『吾輩は猫である』の冒頭部分）のトークン数を計測せよ。\n",
        "\n",
        ">　吾輩は猫である。名前はまだ無い。\n",
        ">\n",
        ">　どこで生れたかとんと見当がつかぬ。何でも薄暗いじめじめした所でニャーニャー泣いていた事だけは記憶している。吾輩はここで始めて人間というものを見た。しかもあとで聞くとそれは書生という人間中で一番獰悪な種族であったそうだ。この書生というのは時々我々を捕えて煮て食うという話である。しかしその当時は何という考もなかったから別段恐しいとも思わなかった。ただ彼の掌に載せられてスーと持ち上げられた時何だかフワフワした感じがあったばかりである。掌の上で少し落ちついて書生の顔を見たのがいわゆる人間というものの見始であろう。この時妙なものだと思った感じが今でも残っている。第一毛をもって装飾されべきはずの顔がつるつるしてまるで薬缶だ。その後猫にもだいぶ逢ったがこんな片輪には一度も出会わした事がない。のみならず顔の真中があまりに突起している。そうしてその穴の中から時々ぷうぷうと煙を吹く。どうも咽せぽくて実に弱った。これが人間の飲む煙草というものである事はようやくこの頃知った。\n"
      ]
    }
  ],
  "metadata": {
    "colab": {
      "provenance": []
    },
    "kernelspec": {
      "display_name": "Python 3",
      "language": "python",
      "name": "python3"
    },
    "language_info": {
      "codemirror_mode": {
        "name": "ipython",
        "version": 3
      },
      "file_extension": ".py",
      "mimetype": "text/x-python",
      "name": "python",
      "nbconvert_exporter": "python",
      "pygments_lexer": "ipython3",
      "version": "3.11.9"
    }
  },
  "nbformat": 4,
  "nbformat_minor": 5
}
