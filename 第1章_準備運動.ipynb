{
 "cells": [
  {
   "cell_type": "markdown",
   "metadata": {
    "id": "fTZcEgc9SHNm"
   },
   "source": [
    "# 00. **文字列の逆順**\n",
    "文字列”stressed”の文字を逆に（末尾から先頭に向かって）並べた文字列を得よ．"
   ]
  },
  {
   "cell_type": "code",
   "execution_count": 1,
   "metadata": {
    "colab": {
     "base_uri": "https://localhost:8080/"
    },
    "id": "5EHH9CycQzrO",
    "outputId": "1cc8b472-1e81-4433-a876-6c5833839f5c"
   },
   "outputs": [
    {
     "name": "stdout",
     "output_type": "stream",
     "text": [
      "desserts\n"
     ]
    }
   ],
   "source": [
    "s = \"stressed\"\n",
    "print(s[::-1])"
   ]
  },
  {
   "cell_type": "markdown",
   "metadata": {
    "id": "SAeLVnVwSwgQ"
   },
   "source": [
    "# 01. **「パタトクカシーー」**\n",
    "「パタトクカシーー」という文字列の1,3,5,7文字目を取り出して連結した文字列を得よ．"
   ]
  },
  {
   "cell_type": "code",
   "execution_count": 2,
   "metadata": {
    "colab": {
     "base_uri": "https://localhost:8080/"
    },
    "id": "YLu4boXGSfIE",
    "outputId": "5e5623fa-cd1f-461f-fd22-cc3e8ee47565"
   },
   "outputs": [
    {
     "name": "stdout",
     "output_type": "stream",
     "text": [
      "パトカー\n"
     ]
    }
   ],
   "source": [
    "s = \"パタトクカシーー\"\n",
    "print(s[::2])"
   ]
  },
  {
   "cell_type": "markdown",
   "metadata": {
    "id": "-tm6LRP9TWyG"
   },
   "source": [
    "# 02. **「パトカー」＋「タクシー」＝「パタトクカシーー」**\n",
    "「パトカー」＋「タクシー」の文字を先頭から交互に連結して文字列「パタトクカシーー」を得よ．"
   ]
  },
  {
   "cell_type": "code",
   "execution_count": 3,
   "metadata": {
    "colab": {
     "base_uri": "https://localhost:8080/"
    },
    "id": "Vxkf8t5aTVGr",
    "outputId": "90d26042-4932-46c6-d654-f270ed578445"
   },
   "outputs": [
    {
     "name": "stdout",
     "output_type": "stream",
     "text": [
      "パタトクカシーー"
     ]
    }
   ],
   "source": [
    "s1 = \"パトカー\"\n",
    "s2 = \"タクシー\"\n",
    "for i in range(len(s1)):\n",
    "    print(s1[i] + s2[i], end=\"\")"
   ]
  },
  {
   "cell_type": "markdown",
   "metadata": {
    "id": "Hn72qajWUFOJ"
   },
   "source": [
    "# **03. 円周率**\n",
    "“Now I need a drink, alcoholic of course, after the heavy lectures involving quantum mechanics.”という文を単語に分解し，各単語の（アルファベットの）文字数を先頭から出現順に並べたリストを作成せよ．"
   ]
  },
  {
   "cell_type": "code",
   "execution_count": 4,
   "metadata": {
    "colab": {
     "base_uri": "https://localhost:8080/"
    },
    "id": "BwTK1cNWTslf",
    "outputId": "ce01a4cc-5eb7-47f9-edc5-0a7f88f9e958"
   },
   "outputs": [
    {
     "name": "stdout",
     "output_type": "stream",
     "text": [
      "[3, 1, 4, 1, 5, 9, 2, 6, 5, 3, 5, 8, 9, 7, 9]\n"
     ]
    }
   ],
   "source": [
    "s = \"Now I need a drink, alcoholic of course, after the heavy lectures involving quantum mechanics.\"\n",
    "s = s.replace(\",\", \"\").replace(\".\", \"\").split()\n",
    "for i in range(len(s)):\n",
    "  s[i] = len(s[i])\n",
    "print(s)"
   ]
  },
  {
   "cell_type": "markdown",
   "metadata": {
    "id": "4xt8mpjTV7XS"
   },
   "source": [
    "# 04. **元素記号**\n",
    "“Hi He Lied Because Boron Could Not Oxidize Fluorine. New Nations Might Also Sign Peace Security Clause. Arthur King Can.”という文を単語に分解し，1, 5, 6, 7, 8, 9, 15, 16, 19番目の単語は先頭の1文字，それ以外の単語は先頭の2文字を取り出し，取り出した文字列から単語の位置（先頭から何番目の単語か）への連想配列（辞書型もしくはマップ型）を作成せよ．"
   ]
  },
  {
   "cell_type": "code",
   "execution_count": 5,
   "metadata": {
    "colab": {
     "base_uri": "https://localhost:8080/"
    },
    "id": "WAFFHg9BW5ZZ",
    "outputId": "85567af4-3526-48d9-e1fa-2cb5b20daad0"
   },
   "outputs": [
    {
     "name": "stdout",
     "output_type": "stream",
     "text": [
      "{'H': 1, 'He': 2, 'Li': 3, 'Be': 4, 'B': 5, 'C': 6, 'N': 7, 'O': 8, 'F': 9, 'Ne': 10, 'Na': 11, 'Mi': 12, 'Al': 13, 'Si': 14, 'P': 15, 'S': 16, 'Cl': 17, 'Ar': 18, 'K': 19, 'Ca': 20}\n"
     ]
    }
   ],
   "source": [
    "s = \"Hi He Lied Because Boron Could Not Oxidize Fluorine. New Nations Might Also Sign Peace Security Clause. Arthur King Can.\"\n",
    "s = s.replace(\",\", \"\").replace(\".\", \"\").split()\n",
    "dict = {}\n",
    "num_list = [1, 5, 6, 7, 8, 9, 15, 16, 19]\n",
    "for i in range(len(s)):\n",
    "  if i+1 in num_list:\n",
    "    dict[s[i][0]] = i+1\n",
    "  else:\n",
    "    dict[s[i][:2]] = i+1\n",
    "print(dict)"
   ]
  },
  {
   "cell_type": "markdown",
   "metadata": {},
   "source": [
    "# 05. **n-gram**\n",
    "与えられたシーケンス（文字列やリストなど）からn-gramを作る関数を作成せよ．この関数を用い，”I am an NLPer”という文から単語bi-gram，文字bi-gramを得よ．"
   ]
  },
  {
   "cell_type": "code",
   "execution_count": 6,
   "metadata": {},
   "outputs": [
    {
     "name": "stdout",
     "output_type": "stream",
     "text": [
      "単語 bi-gram: [['I', 'am'], ['am', 'an'], ['an', 'NLPer']]\n",
      "文字 bi-gram: ['I ', ' a', 'am', 'm ', ' a', 'an', 'n ', ' N', 'NL', 'LP', 'Pe', 'er']\n"
     ]
    }
   ],
   "source": [
    "def n_gram(sequence, n):\n",
    "    n_grams = []\n",
    "    for i in range(len(sequence) - n + 1):\n",
    "        n_grams.append(sequence[i:i + n])\n",
    "    return n_grams\n",
    "\n",
    "text = \"I am an NLPer\"\n",
    "\n",
    "# 単語 bi-gram の生成\n",
    "words = text.split()\n",
    "word_bigrams = n_gram(words, 2)\n",
    "print(\"単語 bi-gram:\", word_bigrams)\n",
    "\n",
    "# 文字 bi-gram の生成\n",
    "chars = text  \n",
    "char_bigrams = n_gram(chars, 2)  \n",
    "print(\"文字 bi-gram:\", char_bigrams)\n"
   ]
  },
  {
   "cell_type": "markdown",
   "metadata": {},
   "source": [
    "# 06. **集合**\n",
    "“paraparaparadise”と”paragraph”に含まれる文字bi-gramの集合を，それぞれ, XとYとして求め，XとYの和集合，積集合，差集合を求めよ．さらに，’se’というbi-gramがXおよびYに含まれるかどうかを調べよ．"
   ]
  },
  {
   "cell_type": "code",
   "execution_count": 22,
   "metadata": {},
   "outputs": [
    {
     "name": "stdout",
     "output_type": "stream",
     "text": [
      "和集合： {'pa', 'is', 'se', 'ar', 'ph', 'ad', 'ap', 'ra', 'ag', 'di', 'gr'}\n",
      "積集合： {'pa', 'ar', 'ap', 'ra'}\n",
      "差集合： {'se', 'ad', 'di', 'is'}\n",
      "差集合： {'ph', 'gr', 'ag'}\n",
      "Xにseが含まれる\n"
     ]
    }
   ],
   "source": [
    "bi_text1 = n_gram(\"paraparaparadise\", 2)\n",
    "bi_text2 = n_gram(\"paragraph\", 2)\n",
    "X = set(bi_text1)\n",
    "Y = set(bi_text2)\n",
    "\n",
    "print(\"和集合：\", X | Y)\n",
    "print(\"積集合：\", X & Y)\n",
    "print(\"差集合：\", X - Y)\n",
    "print(\"差集合：\", Y - X)\n",
    "\n",
    "checkword = \"se\"\n",
    "if checkword in X and checkword in Y:\n",
    "  print(\"XとYに{}が含まれる\".format(checkword))\n",
    "elif checkword in X:\n",
    "  print(\"Xに{}が含まれる\".format(checkword))\n",
    "elif checkword in Y:\n",
    "  print(\"Yに{}が含まれる\".format(checkword))\n",
    "else:\n",
    "  print(\"{}はXとYには含まれない\".format(checkword))"
   ]
  },
  {
   "cell_type": "markdown",
   "metadata": {},
   "source": [
    "# 07. **テンプレートによる文生成**\n",
    "引数x, y, zを受け取り「x時のyはz」という文字列を返す関数を実装せよ．さらに，x=12, y=”気温”, z=22.4として，実行結果を確認せよ．"
   ]
  },
  {
   "cell_type": "code",
   "execution_count": 21,
   "metadata": {},
   "outputs": [
    {
     "name": "stdout",
     "output_type": "stream",
     "text": [
      "12時の気温は22.4\n"
     ]
    }
   ],
   "source": [
    "def Template(x, y, z):\n",
    "    print(\"{0}時の{1}は{2}\".format(x, y, z))\n",
    "\n",
    "Template(12, \"気温\", 22.4)\n"
   ]
  },
  {
   "cell_type": "markdown",
   "metadata": {},
   "source": [
    "# 08. **暗号文**\n",
    "与えられた文字列の各文字を，以下の仕様で変換する関数cipherを実装せよ．\n",
    "* 英小文字ならば(219 - 文字コード)の文字に置換\n",
    "* その他の文字はそのまま出力\n",
    "\n",
    "この関数を用い，英語のメッセージを暗号化・復号化せよ．"
   ]
  },
  {
   "cell_type": "code",
   "execution_count": 25,
   "metadata": {},
   "outputs": [
    {
     "name": "stdout",
     "output_type": "stream",
     "text": [
      "暗号化 gsv jfrxp yildm ulc qfnkh levi gsv ozab wlt\n",
      "複号化 the quick brown fox jumps over the lazy dog\n"
     ]
    }
   ],
   "source": [
    "def cipher(sentence):\n",
    "   result = ''\n",
    "   for c in sentence:\n",
    "       if c.islower():\n",
    "           result += chr(219 - ord(c))\n",
    "       else:\n",
    "           result += c\n",
    "   return result\n",
    "\n",
    "sentence = input('文字列を入力-->')\n",
    "encryption = cipher(sentence)\n",
    "print('暗号化', encryption)\n",
    "\n",
    "decryption = cipher(encryption)\n",
    "print('複号化', decryption)"
   ]
  },
  {
   "cell_type": "markdown",
   "metadata": {},
   "source": [
    "# 09. **Typoglycemia**\n",
    "スペースで区切られた単語列に対して，各単語の先頭と末尾の文字は残し，それ以外の文字の順序をランダムに並び替えるプログラムを作成せよ．ただし，長さが４以下の単語は並び替えないこととする．適当な英語の文（例えば”I couldn’t believe that I could actually understand what I was reading : the phenomenal power of the human mind .”）を与え，その実行結果を確認せよ．"
   ]
  },
  {
   "cell_type": "code",
   "execution_count": 36,
   "metadata": {},
   "outputs": [
    {
     "name": "stdout",
     "output_type": "stream",
     "text": [
      "I c’lodnut bilevee that I cluod aallcuty ustednrand what I was raindeg : the phnmeoanel peowr of the huamn mind .\n"
     ]
    }
   ],
   "source": [
    "import random\n",
    "\n",
    "sentence = \"I couldn’t believe that I could actually understand what I was reading : the phenomenal power of the human mind .\"\n",
    "sentence = sentence.split()\n",
    "\n",
    "for i in range(len(sentence)):\n",
    "    word = sentence[i]\n",
    "    \n",
    "    if len(word) > 4:\n",
    "        middle = list(word[1:-1])\n",
    "        random.shuffle(middle)\n",
    "        sentence[i] = word[0] + ''.join(middle) + word[-1]\n",
    "    \n",
    "print(\" \".join(sentence))\n"
   ]
  },
  {
   "cell_type": "code",
   "execution_count": null,
   "metadata": {},
   "outputs": [],
   "source": []
  }
 ],
 "metadata": {
  "colab": {
   "provenance": []
  },
  "kernelspec": {
   "display_name": ".venv",
   "language": "python",
   "name": "python3"
  },
  "language_info": {
   "codemirror_mode": {
    "name": "ipython",
    "version": 3
   },
   "file_extension": ".py",
   "mimetype": "text/x-python",
   "name": "python",
   "nbconvert_exporter": "python",
   "pygments_lexer": "ipython3",
   "version": "3.11.9"
  }
 },
 "nbformat": 4,
 "nbformat_minor": 0
}
